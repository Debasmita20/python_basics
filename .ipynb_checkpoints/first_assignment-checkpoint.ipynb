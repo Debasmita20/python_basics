{
 "cells": [
  {
   "cell_type": "code",
   "execution_count": null,
   "id": "5eb1ace5-92f7-452e-bda9-95095a8fe3e2",
   "metadata": {},
   "outputs": [],
   "source": [
    "#Explain the key features of Python that make it a popular choice for programming\n",
    "\n",
    "\n",
    "1. Easy to code:\n",
    "   \n",
    " Python is a very high-level programming language, yet it is effortless to learn. \n",
    "    Anyone can learn to code in Python in just a few hours or a few days.\n",
    "    Mastering Python and all its advanced concepts, packages and modules might take some more time.\n",
    "    However, learning the basic Python syntax is very easy, as compared to other popular languages like C, C++, and Java. \n",
    "\n",
    "\n",
    "2.Easy to read:\n",
    "    \n",
    "Python code looks like simple English words.\n",
    "There is no use of semicolons or brackets, and the indentations define the code block.\n",
    "You can tell what the code is supposed to do simply by looking at it. \n",
    " \n",
    "\n",
    "3.Free and open source:\n",
    "    \n",
    "Python is developed under an OSI-approved open source license. \n",
    "Hence, it is completely free to use, even for commercial purposes.\n",
    "It does not cost anything to download Python or to include it in your application.\n",
    "It can also be freely modified and re-distributed.    \n",
    "    \n",
    "    \n",
    "4.Robust standard library:\n",
    "    \n",
    "Python has an extensive standard library available for anyone to use.\n",
    "This means that programmers don’t have to write their code for every single thing unlike other programming languages.\n",
    "There are libraries for image manipulation, databases, unit-testing, expressions and a lot of other functionalities.    \n",
    "\n",
    "\n",
    "5.Interpreted:\n",
    "    \n",
    "When a programming language is interpreted, it means that the source code is executed line by line, and not all at once. \n",
    "Programming languages such as C++ or Java are not interpreted, and hence need to be compiled first to run them.    \n",
    "    \n",
    "    \n",
    "6.Portable:\n",
    "    \n",
    "Python is portable in the sense that the same code can be used on different machines. \n",
    "Suppose you write a Python code on a Mac. \n",
    "If you want to run it on Windows or Linux later, you don’t have to make any changes to it. \n",
    "As such, there is no need to write a program multiple times for several platforms.\n",
    "\n",
    "\n",
    "7.Object Oriented and procedure oriented:\n",
    "    \n",
    "A programming language is object-oriented if it focuses design around data and objects, rather than functions and logic.\n",
    "On the contrary, a programming language is procedure-oriented if it focuses more on functions (code that can be reused). \n",
    "One of the critical Python features is that it supports both object-oriented and procedure-oriented programming. \n",
    "\n",
    "    \n",
    "8.Extensible:\n",
    "    \n",
    "A programming language is said to be extensible if it can be extended to other languages. \n",
    "Python code can also be written in other languages like C++, making it a highly extensible language.\n",
    "\n",
    "    \n",
    "9.Expressive:\n",
    "    \n",
    "Python needs to use only a few lines of code to perform complex tasks. \n",
    "For example, to display Hello World, you simply need to type one line - print(“Hello World”).\n",
    "Other languages like Java or C would take up multiple lines to execute this.\n",
    "\n",
    "    \n",
    "10.High_level language:\n",
    "    \n",
    "Python is a high-level programming language because programmers don’t need to remember the system architecture, nor do they have to manage the memory.\n",
    "This makes it super programmer-friendly and is one of the key features of Python.\n",
    "\n",
    "    \n",
    "    \n",
    "    \n",
    "    "
   ]
  },
  {
   "cell_type": "code",
   "execution_count": null,
   "id": "464ece2d-7dae-46d3-98f4-2ade09d76a26",
   "metadata": {},
   "outputs": [],
   "source": []
  },
  {
   "cell_type": "code",
   "execution_count": 1,
   "id": "94c54f5d-3b29-4b1f-949f-19ce1e036efd",
   "metadata": {},
   "outputs": [
    {
     "name": "stdout",
     "output_type": "stream",
     "text": [
      "1\n",
      "2\n",
      "3\n",
      "4\n",
      "5\n"
     ]
    }
   ],
   "source": [
    "#Describe the different types of loops in Python and their use cases with examples.\n",
    "\n",
    "\n",
    "#while loop:\n",
    "\n",
    "n = 6\n",
    "i = 1\n",
    "while i < n: \n",
    "    print(i) \n",
    "    i = i+1\n",
    "    \n",
    "\n"
   ]
  },
  {
   "cell_type": "code",
   "execution_count": 2,
   "id": "ad2b5ba1-d323-4e62-85f8-178d74bc7a9d",
   "metadata": {},
   "outputs": [
    {
     "name": "stdout",
     "output_type": "stream",
     "text": [
      "3\n",
      "2\n",
      "1\n"
     ]
    }
   ],
   "source": [
    "count = 3\n",
    "while count > 0:\n",
    "    print(count)\n",
    "    count = count - 1\n",
    "    "
   ]
  },
  {
   "cell_type": "code",
   "execution_count": 4,
   "id": "54f0d7fd-c879-4abb-b216-c72c5e385185",
   "metadata": {},
   "outputs": [
    {
     "name": "stdout",
     "output_type": "stream",
     "text": [
      "1\n",
      "2\n"
     ]
    }
   ],
   "source": [
    "#break terminates/exits the loop\n",
    "\n",
    "n = 6\n",
    "i = 1\n",
    "while i < n:\n",
    "    print(i) \n",
    "    i = i+1\n",
    "    if i == 3:\n",
    "        break\n",
    "else:\n",
    "    print(\"This will be executed when the while is run successfuly without any break\")"
   ]
  },
  {
   "cell_type": "code",
   "execution_count": 5,
   "id": "085c89dc-5394-4531-a2c4-2771ccbc346c",
   "metadata": {},
   "outputs": [
    {
     "name": "stdout",
     "output_type": "stream",
     "text": [
      "2\n",
      "4\n",
      "5\n",
      "6\n",
      "This will be executed when the while is run successfuly without any break\n"
     ]
    }
   ],
   "source": [
    "#continue statement\n",
    "\n",
    "n = 6\n",
    "i = 1\n",
    "while i < n:\n",
    "    i = i+1\n",
    "    if i == 3:\n",
    "        continue \n",
    "    print(i)\n",
    "else:    \n",
    "    print(\"This will be executed when the while is run successfuly without any break\")"
   ]
  },
  {
   "cell_type": "code",
   "execution_count": 6,
   "id": "2ea80e7e-a979-4365-9aa5-9a5bbd9c68b0",
   "metadata": {},
   "outputs": [
    {
     "name": "stdout",
     "output_type": "stream",
     "text": [
      "D\n",
      "e\n",
      "b\n",
      "a\n",
      "s\n",
      "m\n",
      "i\n",
      "t\n",
      "a\n"
     ]
    }
   ],
   "source": [
    "#for loop\n",
    "\n",
    "a = \"Debasmita\"\n",
    "for i in a:\n",
    "    print(i)\n",
    "\n"
   ]
  },
  {
   "cell_type": "code",
   "execution_count": 7,
   "id": "7a9325d8-f58a-4159-83dc-de3276300b3c",
   "metadata": {},
   "outputs": [
    {
     "name": "stdout",
     "output_type": "stream",
     "text": [
      "1\n",
      "2\n",
      "Debasmita\n",
      "pwskills\n"
     ]
    }
   ],
   "source": [
    "l = [1,2,\"Debasmita\", \"pwskills\"]\n",
    "for i in l:\n",
    "    print(i)"
   ]
  },
  {
   "cell_type": "code",
   "execution_count": 8,
   "id": "6b610229-47dc-40be-ae33-74ea8047566d",
   "metadata": {},
   "outputs": [
    {
     "name": "stdout",
     "output_type": "stream",
     "text": [
      "1\n",
      "2\n",
      "Debasmita\n"
     ]
    }
   ],
   "source": [
    "#break statement i for loop\n",
    "for i in l:\n",
    "    if i == \"pwskills\":\n",
    "        break\n",
    "    print(i)\n",
    "else:\n",
    "    print(\"This will be executed when for loop ends without a breeak statement\")\n",
    "    "
   ]
  },
  {
   "cell_type": "code",
   "execution_count": 9,
   "id": "8ca85de4-b4e8-4173-a992-d63c3d7fad61",
   "metadata": {},
   "outputs": [
    {
     "name": "stdout",
     "output_type": "stream",
     "text": [
      "1\n",
      "2\n",
      "Debasmita\n",
      "This will be executed when for loop ends without a breeak statement\n"
     ]
    }
   ],
   "source": [
    "for i in l:\n",
    "    if i == \"pwskills\":\n",
    "        continue\n",
    "    print(i)\n",
    "else:\n",
    "    print(\"This will be executed when for loop ends without a breeak statement\")\n",
    "    "
   ]
  },
  {
   "cell_type": "code",
   "execution_count": 10,
   "id": "ecf89cd4-86c7-4eef-b697-a634731e28e0",
   "metadata": {},
   "outputs": [
    {
     "data": {
      "text/plain": [
       "range(0, 10)"
      ]
     },
     "execution_count": 10,
     "metadata": {},
     "output_type": "execute_result"
    }
   ],
   "source": [
    "range(0,10)"
   ]
  },
  {
   "cell_type": "code",
   "execution_count": 11,
   "id": "d22a634c-bfe0-4577-b34f-da24f5b6a7c3",
   "metadata": {},
   "outputs": [
    {
     "data": {
      "text/plain": [
       "[0, 1, 2, 3, 4, 5, 6, 7, 8, 9]"
      ]
     },
     "execution_count": 11,
     "metadata": {},
     "output_type": "execute_result"
    }
   ],
   "source": [
    "list(range(0,10))"
   ]
  },
  {
   "cell_type": "code",
   "execution_count": 12,
   "id": "9a89dbaf-9fe1-4b28-b518-6a55cbc567a8",
   "metadata": {},
   "outputs": [
    {
     "name": "stdout",
     "output_type": "stream",
     "text": [
      "0123456789"
     ]
    }
   ],
   "source": [
    "for i in range(10):\n",
    "    print(i,end=\"\")"
   ]
  },
  {
   "cell_type": "code",
   "execution_count": 13,
   "id": "9e0535b1-a555-44c1-84fe-28f72820c497",
   "metadata": {},
   "outputs": [
    {
     "name": "stdout",
     "output_type": "stream",
     "text": [
      "0 1 2 3 4 5 6 7 8 9 "
     ]
    }
   ],
   "source": [
    "for i in range(10):\n",
    "    print(i,end=\" \")"
   ]
  },
  {
   "cell_type": "code",
   "execution_count": 14,
   "id": "439ed3bc-42e6-457f-811a-c71d3764725f",
   "metadata": {},
   "outputs": [
    {
     "name": "stdout",
     "output_type": "stream",
     "text": [
      "0*1*2*3*4*5*6*7*8*9*"
     ]
    }
   ],
   "source": [
    "for i in range(10):\n",
    "    print(i,end=\"*\")"
   ]
  },
  {
   "cell_type": "code",
   "execution_count": 15,
   "id": "2af193ae-6e39-4340-9f15-63b20aad032e",
   "metadata": {},
   "outputs": [
    {
     "data": {
      "text/plain": [
       "[0,\n",
       " 2,\n",
       " 4,\n",
       " 6,\n",
       " 8,\n",
       " 10,\n",
       " 12,\n",
       " 14,\n",
       " 16,\n",
       " 18,\n",
       " 20,\n",
       " 22,\n",
       " 24,\n",
       " 26,\n",
       " 28,\n",
       " 30,\n",
       " 32,\n",
       " 34,\n",
       " 36,\n",
       " 38,\n",
       " 40,\n",
       " 42,\n",
       " 44,\n",
       " 46,\n",
       " 48,\n",
       " 50,\n",
       " 52,\n",
       " 54,\n",
       " 56,\n",
       " 58,\n",
       " 60,\n",
       " 62,\n",
       " 64,\n",
       " 66,\n",
       " 68,\n",
       " 70,\n",
       " 72,\n",
       " 74,\n",
       " 76,\n",
       " 78,\n",
       " 80,\n",
       " 82,\n",
       " 84,\n",
       " 86,\n",
       " 88,\n",
       " 90,\n",
       " 92,\n",
       " 94,\n",
       " 96,\n",
       " 98]"
      ]
     },
     "execution_count": 15,
     "metadata": {},
     "output_type": "execute_result"
    }
   ],
   "source": [
    "list(range(0,100,2))"
   ]
  },
  {
   "cell_type": "code",
   "execution_count": 17,
   "id": "97004d95-3fa0-42c4-a0a3-3a2a887860ac",
   "metadata": {},
   "outputs": [
    {
     "name": "stdout",
     "output_type": "stream",
     "text": [
      "*\n",
      "**\n",
      "***\n"
     ]
    }
   ],
   "source": [
    "for i in range(3):\n",
    "    for J in range(i+1):\n",
    "        print(\"*\", end = \"\")\n",
    "    print()\n",
    "        \n"
   ]
  },
  {
   "cell_type": "code",
   "execution_count": 18,
   "id": "2489e27e-8e93-4489-a53d-7d79ea36f866",
   "metadata": {},
   "outputs": [
    {
     "name": "stdout",
     "output_type": "stream",
     "text": [
      "1\n",
      "3\n",
      "4\n",
      "5\n",
      "7\n",
      "8\n"
     ]
    }
   ],
   "source": [
    "#conditionals with for loop\n",
    "number = [1,2,3,4,5,6,7,8]\n",
    "for num in number:\n",
    "    if (num == 2) or (num == 6):\n",
    "        continue\n",
    "    print(num)\n",
    "        "
   ]
  },
  {
   "cell_type": "code",
   "execution_count": 19,
   "id": "7951c12e-f86b-474f-9df0-62cb451696f7",
   "metadata": {},
   "outputs": [
    {
     "name": "stdout",
     "output_type": "stream",
     "text": [
      "1\n"
     ]
    }
   ],
   "source": [
    "number = [1,2,3,4,5,6,7,8]\n",
    "for num in number:\n",
    "    if (num == 2) or (num == 6):\n",
    "        break\n",
    "    print(num)"
   ]
  },
  {
   "cell_type": "code",
   "execution_count": null,
   "id": "b5d1d09d-04cf-4be7-abc0-9ece6b6fa89a",
   "metadata": {},
   "outputs": [],
   "source": []
  },
  {
   "cell_type": "code",
   "execution_count": null,
   "id": "13605bd1-0eb4-4943-87be-c1cae0189838",
   "metadata": {},
   "outputs": [],
   "source": [
    "#How do conditional statements work in Python? Illustrate with examples.\n",
    "\n",
    "\n",
    "#Conditional statements:\n",
    "\n",
    "#To helps you to code decisions basd on some preconditions.\n",
    "\n",
    "#if\n",
    "#if else\n",
    "#if elif(else if)else\n",
    "#nested if else\n",
    "\n",
    "#if statements\n",
    "#syntax\n",
    "#if condition True:\n",
    "#block of code will be executed\n",
    "    \n"
   ]
  },
  {
   "cell_type": "code",
   "execution_count": 20,
   "id": "054bdca0-2c9e-458f-8107-9a9841d67183",
   "metadata": {},
   "outputs": [
    {
     "data": {
      "text/plain": [
       "False"
      ]
     },
     "execution_count": 20,
     "metadata": {},
     "output_type": "execute_result"
    }
   ],
   "source": [
    "5>6"
   ]
  },
  {
   "cell_type": "code",
   "execution_count": 22,
   "id": "2307425e-4a83-427c-9739-741a164296bc",
   "metadata": {},
   "outputs": [
    {
     "data": {
      "text/plain": [
       "True"
      ]
     },
     "execution_count": 22,
     "metadata": {},
     "output_type": "execute_result"
    }
   ],
   "source": [
    "4<5"
   ]
  },
  {
   "cell_type": "code",
   "execution_count": 23,
   "id": "8f317e79-de24-4e06-b3a1-f02f6f510cb1",
   "metadata": {},
   "outputs": [
    {
     "name": "stdout",
     "output_type": "stream",
     "text": [
      "The number is greater than 12\n"
     ]
    }
   ],
   "source": [
    "a = 100\n",
    "if a > 12: #execute the if block,if the condition is True\n",
    "    print(\"The number is greater than 12\")"
   ]
  },
  {
   "cell_type": "code",
   "execution_count": 24,
   "id": "093d2185-d926-4187-b809-6fe51cb58972",
   "metadata": {},
   "outputs": [],
   "source": [
    "a = 100\n",
    "if a < 12: #execute the if block/body of it,if the condition is True\n",
    "    print(\"The number is greater than 12.\") \n"
   ]
  },
  {
   "cell_type": "code",
   "execution_count": 25,
   "id": "74b8245a-9dd3-47cc-b517-5d81d33821fb",
   "metadata": {},
   "outputs": [
    {
     "name": "stdout",
     "output_type": "stream",
     "text": [
      "I will play cricket\n"
     ]
    }
   ],
   "source": [
    "weather = \"sunny\"\n",
    "if weather == \"sunny\":\n",
    "    print(\"I will play cricket\")"
   ]
  },
  {
   "cell_type": "code",
   "execution_count": 26,
   "id": "7f3be5a9-6848-4089-b37d-e1dcd0234d82",
   "metadata": {},
   "outputs": [],
   "source": [
    "weather = \"sunny\"\n",
    "if weather == \"rainy\":\n",
    "    print(\"I will not play cricket\")"
   ]
  },
  {
   "cell_type": "code",
   "execution_count": 27,
   "id": "d96d0418-17f8-48ee-b729-9cd766558a9c",
   "metadata": {},
   "outputs": [
    {
     "name": "stdout",
     "output_type": "stream",
     "text": [
      "Room temp\n"
     ]
    }
   ],
   "source": [
    "temp = 45\n",
    "if temp > 30:\n",
    "    print(\"Room temp\")\n",
    "    \n",
    "    "
   ]
  },
  {
   "cell_type": "code",
   "execution_count": 28,
   "id": "779ccb23-937b-499e-9b1a-f65958e7dfc1",
   "metadata": {},
   "outputs": [
    {
     "name": "stdout",
     "output_type": "stream",
     "text": [
      "I am studying the course\n"
     ]
    }
   ],
   "source": [
    "is_ds_course = True\n",
    "if is_ds_course:\n",
    "    print(\"I am studying the course\")"
   ]
  },
  {
   "cell_type": "code",
   "execution_count": 29,
   "id": "8d7c341d-b8eb-428c-a746-231e89c46f97",
   "metadata": {},
   "outputs": [
    {
     "name": "stdout",
     "output_type": "stream",
     "text": [
      "You are excellent\n"
     ]
    }
   ],
   "source": [
    "grade = 9\n",
    "if grade >=9:\n",
    "    print(\"You are excellent\")"
   ]
  },
  {
   "cell_type": "code",
   "execution_count": 30,
   "id": "d2327f0d-889b-47bc-b252-9e74c16df793",
   "metadata": {},
   "outputs": [
    {
     "name": "stdout",
     "output_type": "stream",
     "text": [
      "The number is even\n"
     ]
    }
   ],
   "source": [
    "number = 30\n",
    "if number % 2 == 0:\n",
    "    print(\"The number is even\")"
   ]
  },
  {
   "cell_type": "code",
   "execution_count": 31,
   "id": "8f3d9757-2ba1-4966-8c7b-474a4ff0dfe9",
   "metadata": {},
   "outputs": [
    {
     "name": "stdout",
     "output_type": "stream",
     "text": [
      "This is the number of intrest\n"
     ]
    }
   ],
   "source": [
    "#in real life, decisions are made based on multiple conditions\n",
    "number = 30\n",
    "if ((number % 2 == 0) & (number > 0)):\n",
    "    print(\"This is the number of intrest\")"
   ]
  },
  {
   "cell_type": "code",
   "execution_count": 32,
   "id": "6d389b2a-17c0-484e-a7d8-8248dfdc1105",
   "metadata": {},
   "outputs": [
    {
     "name": "stdout",
     "output_type": "stream",
     "text": [
      "I will not play cricket\n"
     ]
    }
   ],
   "source": [
    "weather = \"rainy\"\n",
    "if weather == \"rainy\":\n",
    "    print(\"I will not play cricket\")\n",
    "else:\n",
    "    print(\"I will watch Tv\")"
   ]
  },
  {
   "cell_type": "code",
   "execution_count": 33,
   "id": "91d9965d-f01c-4022-84e6-3a095f0f7f86",
   "metadata": {},
   "outputs": [
    {
     "name": "stdout",
     "output_type": "stream",
     "text": [
      "I will play cricket\n"
     ]
    }
   ],
   "source": [
    "#if else >> execute the if block when the condition is true else execute else block   \n",
    "weather = \"sunny\"\n",
    "if weather == \"sunny\": #condition is true, execute if block\n",
    "    print(\"I will play cricket\")\n",
    "else: #condition is not true, else block will be executed\n",
    "    print(\"I will watch Tv\")"
   ]
  },
  {
   "cell_type": "code",
   "execution_count": 38,
   "id": "c12d04e7-e20c-415e-a18c-dbf172495aab",
   "metadata": {},
   "outputs": [
    {
     "name": "stdout",
     "output_type": "stream",
     "text": [
      "You will be served alcohal\n"
     ]
    }
   ],
   "source": [
    "age = 21\n",
    "if age >= 18:\n",
    "    print(\"You will be served alcohal\")\n",
    "else:\n",
    "    print(\"get out of the bar\")"
   ]
  },
  {
   "cell_type": "code",
   "execution_count": 40,
   "id": "520300a7-0228-4a7f-8796-a5c7e21188e2",
   "metadata": {},
   "outputs": [
    {
     "name": "stdout",
     "output_type": "stream",
     "text": [
      "x is greater than 6\n"
     ]
    }
   ],
   "source": [
    "x = 18\n",
    "if x > 6:\n",
    "    print(\"x is greater than 6\")\n",
    "else:\n",
    "    print(\"The no is less than 6\")"
   ]
  },
  {
   "cell_type": "code",
   "execution_count": 41,
   "id": "b261c68f-5fd2-41f6-8249-08beba6a2fb8",
   "metadata": {},
   "outputs": [
    {
     "name": "stdout",
     "output_type": "stream",
     "text": [
      "odd\n"
     ]
    }
   ],
   "source": [
    "num = 5\n",
    "if num % 2 == 0:\n",
    "    print(\"even\")\n",
    "else:\n",
    "    print(\"odd\")"
   ]
  },
  {
   "cell_type": "code",
   "execution_count": null,
   "id": "10316a35-47f2-475e-a7a3-0c0d52d67206",
   "metadata": {},
   "outputs": [],
   "source": []
  },
  {
   "cell_type": "code",
   "execution_count": null,
   "id": "385075f6-2f7a-46ca-a309-1f92dcc6c573",
   "metadata": {},
   "outputs": [],
   "source": [
    "#Explain the concept of type casting in Python with examples.\n",
    "\n",
    "\n",
    "#Typecasting is two types:\n",
    "#implicit\n",
    "#Explicit\n",
    "\n",
    "\n"
   ]
  },
  {
   "cell_type": "code",
   "execution_count": 42,
   "id": "35bab9c7-07c6-4a5f-ac95-d5edb3c8a07c",
   "metadata": {},
   "outputs": [],
   "source": [
    "a = 6"
   ]
  },
  {
   "cell_type": "code",
   "execution_count": 43,
   "id": "8c736dc2-5e66-4c17-a881-71b4c20915a5",
   "metadata": {},
   "outputs": [
    {
     "data": {
      "text/plain": [
       "6"
      ]
     },
     "execution_count": 43,
     "metadata": {},
     "output_type": "execute_result"
    }
   ],
   "source": [
    "a"
   ]
  },
  {
   "cell_type": "code",
   "execution_count": 44,
   "id": "f7684699-a883-459f-90f4-4aee6295b28a",
   "metadata": {},
   "outputs": [
    {
     "data": {
      "text/plain": [
       "int"
      ]
     },
     "execution_count": 44,
     "metadata": {},
     "output_type": "execute_result"
    }
   ],
   "source": [
    "type(a)"
   ]
  },
  {
   "cell_type": "code",
   "execution_count": 45,
   "id": "f75f69f8-f33e-44d3-922e-949a00a9f388",
   "metadata": {},
   "outputs": [
    {
     "data": {
      "text/plain": [
       "4.3"
      ]
     },
     "execution_count": 45,
     "metadata": {},
     "output_type": "execute_result"
    }
   ],
   "source": [
    "b = 4.3\n",
    "b"
   ]
  },
  {
   "cell_type": "code",
   "execution_count": 46,
   "id": "2d014f31-83d4-4645-8f94-194091240700",
   "metadata": {},
   "outputs": [
    {
     "data": {
      "text/plain": [
       "float"
      ]
     },
     "execution_count": 46,
     "metadata": {},
     "output_type": "execute_result"
    }
   ],
   "source": [
    "type(b)"
   ]
  },
  {
   "cell_type": "code",
   "execution_count": 47,
   "id": "c850ced9-634a-4ad9-8e74-d62c728a2b59",
   "metadata": {},
   "outputs": [],
   "source": [
    "c = \"Debasmita\""
   ]
  },
  {
   "cell_type": "code",
   "execution_count": 48,
   "id": "2afd40d8-a852-4910-8843-a6dffb535313",
   "metadata": {},
   "outputs": [
    {
     "data": {
      "text/plain": [
       "'Debasmita'"
      ]
     },
     "execution_count": 48,
     "metadata": {},
     "output_type": "execute_result"
    }
   ],
   "source": [
    "c"
   ]
  },
  {
   "cell_type": "code",
   "execution_count": 49,
   "id": "dab663ae-cef5-4cac-a2a8-2877dec93f30",
   "metadata": {},
   "outputs": [
    {
     "data": {
      "text/plain": [
       "str"
      ]
     },
     "execution_count": 49,
     "metadata": {},
     "output_type": "execute_result"
    }
   ],
   "source": [
    "type(c)"
   ]
  },
  {
   "cell_type": "code",
   "execution_count": 50,
   "id": "c9aca653-0b3d-4920-a982-ab9193ac65ff",
   "metadata": {},
   "outputs": [
    {
     "data": {
      "text/plain": [
       "9"
      ]
     },
     "execution_count": 50,
     "metadata": {},
     "output_type": "execute_result"
    }
   ],
   "source": [
    "4+5"
   ]
  },
  {
   "cell_type": "code",
   "execution_count": 51,
   "id": "2e35fb29-a4a8-48bc-9e1e-d905115ae1fa",
   "metadata": {},
   "outputs": [
    {
     "data": {
      "text/plain": [
       "str"
      ]
     },
     "execution_count": 51,
     "metadata": {},
     "output_type": "execute_result"
    }
   ],
   "source": [
    "type(\"5\")"
   ]
  },
  {
   "cell_type": "code",
   "execution_count": 52,
   "id": "a6f6557e-d55e-4c7c-841f-821c1543c60c",
   "metadata": {},
   "outputs": [
    {
     "data": {
      "text/plain": [
       "8"
      ]
     },
     "execution_count": 52,
     "metadata": {},
     "output_type": "execute_result"
    }
   ],
   "source": [
    "a = \"3\"\n",
    "b = 5\n",
    "int(a)+b"
   ]
  },
  {
   "cell_type": "code",
   "execution_count": 53,
   "id": "54c21a21-c72f-4074-95e8-ef0956f57c6d",
   "metadata": {},
   "outputs": [
    {
     "name": "stdout",
     "output_type": "stream",
     "text": [
      "<class 'str'>\n",
      "<class 'int'>\n"
     ]
    }
   ],
   "source": [
    "#string to integer\n",
    "a = \"5\"\n",
    "print(type(a))\n",
    "print(type(int(a)))"
   ]
  },
  {
   "cell_type": "code",
   "execution_count": 54,
   "id": "277527db-7c7f-49a0-b103-e2055efad171",
   "metadata": {},
   "outputs": [
    {
     "data": {
      "text/plain": [
       "float"
      ]
     },
     "execution_count": 54,
     "metadata": {},
     "output_type": "execute_result"
    }
   ],
   "source": [
    "#float to integer\n",
    "a = 3.4\n",
    "type(a)\n"
   ]
  },
  {
   "cell_type": "code",
   "execution_count": 55,
   "id": "fe0bce99-c8d0-419b-a9d9-04af9fb610f4",
   "metadata": {},
   "outputs": [
    {
     "data": {
      "text/plain": [
       "int"
      ]
     },
     "execution_count": 55,
     "metadata": {},
     "output_type": "execute_result"
    }
   ],
   "source": [
    "type(int(a))"
   ]
  },
  {
   "cell_type": "code",
   "execution_count": 56,
   "id": "78859969-0b21-4fd3-846b-655b71a0dbac",
   "metadata": {},
   "outputs": [
    {
     "data": {
      "text/plain": [
       "3"
      ]
     },
     "execution_count": 56,
     "metadata": {},
     "output_type": "execute_result"
    }
   ],
   "source": [
    "int(a)"
   ]
  },
  {
   "cell_type": "code",
   "execution_count": 57,
   "id": "3a20cff5-61c3-4792-a204-e9ad40a14f6e",
   "metadata": {},
   "outputs": [
    {
     "data": {
      "text/plain": [
       "int"
      ]
     },
     "execution_count": 57,
     "metadata": {},
     "output_type": "execute_result"
    }
   ],
   "source": [
    "#int to float\n",
    "a = 2\n",
    "type(a)"
   ]
  },
  {
   "cell_type": "code",
   "execution_count": 58,
   "id": "729cd228-5f37-4f0b-b93c-b4a7d8a2bca7",
   "metadata": {},
   "outputs": [],
   "source": [
    "b = float(a)"
   ]
  },
  {
   "cell_type": "code",
   "execution_count": 59,
   "id": "3f4eae7a-2f34-438e-9b55-e37e6e537c8a",
   "metadata": {},
   "outputs": [
    {
     "data": {
      "text/plain": [
       "float"
      ]
     },
     "execution_count": 59,
     "metadata": {},
     "output_type": "execute_result"
    }
   ],
   "source": [
    "type(b)"
   ]
  },
  {
   "cell_type": "code",
   "execution_count": 60,
   "id": "4601120d-4804-474c-9aeb-dc828e26be95",
   "metadata": {},
   "outputs": [
    {
     "data": {
      "text/plain": [
       "2.0"
      ]
     },
     "execution_count": 60,
     "metadata": {},
     "output_type": "execute_result"
    }
   ],
   "source": [
    "b"
   ]
  },
  {
   "cell_type": "code",
   "execution_count": 61,
   "id": "519069c1-a028-4969-abff-52eec19edf4f",
   "metadata": {},
   "outputs": [
    {
     "data": {
      "text/plain": [
       "str"
      ]
     },
     "execution_count": 61,
     "metadata": {},
     "output_type": "execute_result"
    }
   ],
   "source": [
    "#string to float\n",
    "a = \"2.3\"\n",
    "type(a)"
   ]
  },
  {
   "cell_type": "code",
   "execution_count": 62,
   "id": "419ac0e3-5c3f-483e-baf9-95ad7a45e474",
   "metadata": {},
   "outputs": [],
   "source": [
    "b = float(a)"
   ]
  },
  {
   "cell_type": "code",
   "execution_count": 63,
   "id": "3204693d-f046-40ff-ac17-b5aff5781db5",
   "metadata": {},
   "outputs": [
    {
     "data": {
      "text/plain": [
       "2.3"
      ]
     },
     "execution_count": 63,
     "metadata": {},
     "output_type": "execute_result"
    }
   ],
   "source": [
    "b"
   ]
  },
  {
   "cell_type": "code",
   "execution_count": 64,
   "id": "790dc63e-a2b2-45d7-a2e8-dbb50cdec62a",
   "metadata": {},
   "outputs": [
    {
     "data": {
      "text/plain": [
       "float"
      ]
     },
     "execution_count": 64,
     "metadata": {},
     "output_type": "execute_result"
    }
   ],
   "source": [
    "type(b)"
   ]
  },
  {
   "cell_type": "code",
   "execution_count": 65,
   "id": "54c4f0a4-4f8d-41bc-9c6c-44fefdd677f0",
   "metadata": {},
   "outputs": [
    {
     "data": {
      "text/plain": [
       "str"
      ]
     },
     "execution_count": 65,
     "metadata": {},
     "output_type": "execute_result"
    }
   ],
   "source": [
    "a = \"Debasmita\"\n",
    "type(a)"
   ]
  },
  {
   "cell_type": "code",
   "execution_count": 66,
   "id": "8bb5d859-503e-427f-9f29-eb076c02cd31",
   "metadata": {},
   "outputs": [
    {
     "ename": "ValueError",
     "evalue": "invalid literal for int() with base 10: 'Debasmita'",
     "output_type": "error",
     "traceback": [
      "\u001b[0;31m---------------------------------------------------------------------------\u001b[0m",
      "\u001b[0;31mValueError\u001b[0m                                Traceback (most recent call last)",
      "Cell \u001b[0;32mIn[66], line 1\u001b[0m\n\u001b[0;32m----> 1\u001b[0m \u001b[38;5;28;43mint\u001b[39;49m\u001b[43m(\u001b[49m\u001b[43ma\u001b[49m\u001b[43m)\u001b[49m\n",
      "\u001b[0;31mValueError\u001b[0m: invalid literal for int() with base 10: 'Debasmita'"
     ]
    }
   ],
   "source": [
    "int(a)"
   ]
  },
  {
   "cell_type": "code",
   "execution_count": 67,
   "id": "b09d80fa-d983-4cb0-a2ed-4fa68529c1e0",
   "metadata": {},
   "outputs": [
    {
     "ename": "ValueError",
     "evalue": "could not convert string to float: 'Debasmita'",
     "output_type": "error",
     "traceback": [
      "\u001b[0;31m---------------------------------------------------------------------------\u001b[0m",
      "\u001b[0;31mValueError\u001b[0m                                Traceback (most recent call last)",
      "Cell \u001b[0;32mIn[67], line 1\u001b[0m\n\u001b[0;32m----> 1\u001b[0m \u001b[38;5;28;43mfloat\u001b[39;49m\u001b[43m(\u001b[49m\u001b[43ma\u001b[49m\u001b[43m)\u001b[49m\n",
      "\u001b[0;31mValueError\u001b[0m: could not convert string to float: 'Debasmita'"
     ]
    }
   ],
   "source": [
    "float(a)"
   ]
  },
  {
   "cell_type": "code",
   "execution_count": 68,
   "id": "77e2b2a6-2439-45e7-873c-fb24cfe2c5aa",
   "metadata": {},
   "outputs": [
    {
     "data": {
      "text/plain": [
       "int"
      ]
     },
     "execution_count": 68,
     "metadata": {},
     "output_type": "execute_result"
    }
   ],
   "source": [
    "#int to string\n",
    "a = 4\n",
    "type(a)"
   ]
  },
  {
   "cell_type": "code",
   "execution_count": 70,
   "id": "45a8cca2-02aa-474a-985b-536f12b4215d",
   "metadata": {},
   "outputs": [
    {
     "data": {
      "text/plain": [
       "'4'"
      ]
     },
     "execution_count": 70,
     "metadata": {},
     "output_type": "execute_result"
    }
   ],
   "source": [
    "str(a)"
   ]
  },
  {
   "cell_type": "code",
   "execution_count": 71,
   "id": "6d8a3b15-ef30-4d8e-b9f1-6b6a7552d157",
   "metadata": {},
   "outputs": [],
   "source": [
    "c = str(a)"
   ]
  },
  {
   "cell_type": "code",
   "execution_count": 72,
   "id": "aa052429-2dc9-4967-9100-b87985a74133",
   "metadata": {},
   "outputs": [
    {
     "data": {
      "text/plain": [
       "'4'"
      ]
     },
     "execution_count": 72,
     "metadata": {},
     "output_type": "execute_result"
    }
   ],
   "source": [
    "c"
   ]
  },
  {
   "cell_type": "code",
   "execution_count": 73,
   "id": "e1e87320-aa60-4acf-be51-beac9abfbf06",
   "metadata": {},
   "outputs": [
    {
     "data": {
      "text/plain": [
       "str"
      ]
     },
     "execution_count": 73,
     "metadata": {},
     "output_type": "execute_result"
    }
   ],
   "source": [
    "type(c)"
   ]
  },
  {
   "cell_type": "code",
   "execution_count": 74,
   "id": "0e36eeff-f396-430a-aa7f-e798f6ab7fdd",
   "metadata": {},
   "outputs": [
    {
     "data": {
      "text/plain": [
       "7"
      ]
     },
     "execution_count": 74,
     "metadata": {},
     "output_type": "execute_result"
    }
   ],
   "source": [
    "a = 7\n",
    "a"
   ]
  },
  {
   "cell_type": "code",
   "execution_count": 75,
   "id": "69dd9c34-5e89-4ec9-873b-247fbb449be5",
   "metadata": {},
   "outputs": [
    {
     "data": {
      "text/plain": [
       "int"
      ]
     },
     "execution_count": 75,
     "metadata": {},
     "output_type": "execute_result"
    }
   ],
   "source": [
    "type(a)"
   ]
  },
  {
   "cell_type": "code",
   "execution_count": 76,
   "id": "d02fee41-3f24-4757-a707-c00b4154fc1e",
   "metadata": {},
   "outputs": [
    {
     "data": {
      "text/plain": [
       "7"
      ]
     },
     "execution_count": 76,
     "metadata": {},
     "output_type": "execute_result"
    }
   ],
   "source": [
    "4+3"
   ]
  },
  {
   "cell_type": "code",
   "execution_count": 77,
   "id": "cd38efe9-4573-4eb5-a7c5-b3a8186d3944",
   "metadata": {},
   "outputs": [
    {
     "data": {
      "text/plain": [
       "7.9"
      ]
     },
     "execution_count": 77,
     "metadata": {},
     "output_type": "execute_result"
    }
   ],
   "source": [
    "4+3.9"
   ]
  },
  {
   "cell_type": "code",
   "execution_count": 78,
   "id": "c3486a17-b473-42a3-9c91-e3cfee5ed69d",
   "metadata": {},
   "outputs": [
    {
     "data": {
      "text/plain": [
       "'DebasmitaMishra'"
      ]
     },
     "execution_count": 78,
     "metadata": {},
     "output_type": "execute_result"
    }
   ],
   "source": [
    "a = \"Debasmita\"\n",
    "b = \"Mishra\"\n",
    "a+b"
   ]
  },
  {
   "cell_type": "code",
   "execution_count": 79,
   "id": "5fb8c5c6-da0e-4d84-a4e3-0f768f8f77c8",
   "metadata": {},
   "outputs": [
    {
     "data": {
      "text/plain": [
       "'100Debasmita'"
      ]
     },
     "execution_count": 79,
     "metadata": {},
     "output_type": "execute_result"
    }
   ],
   "source": [
    "\"100\" + \"Debasmita\""
   ]
  },
  {
   "cell_type": "code",
   "execution_count": 80,
   "id": "fe44d0a5-fc18-4d23-b460-c95b0e65b0e3",
   "metadata": {},
   "outputs": [
    {
     "data": {
      "text/plain": [
       "False"
      ]
     },
     "execution_count": 80,
     "metadata": {},
     "output_type": "execute_result"
    }
   ],
   "source": [
    "#bool\n",
    "bool(0)"
   ]
  },
  {
   "cell_type": "code",
   "execution_count": 81,
   "id": "e9855d92-eba2-4c74-af92-fc43b16972ce",
   "metadata": {},
   "outputs": [
    {
     "data": {
      "text/plain": [
       "True"
      ]
     },
     "execution_count": 81,
     "metadata": {},
     "output_type": "execute_result"
    }
   ],
   "source": [
    "bool(1)"
   ]
  },
  {
   "cell_type": "code",
   "execution_count": 82,
   "id": "1e74ceda-518d-49d2-a792-b705f1eded1e",
   "metadata": {},
   "outputs": [
    {
     "data": {
      "text/plain": [
       "True"
      ]
     },
     "execution_count": 82,
     "metadata": {},
     "output_type": "execute_result"
    }
   ],
   "source": [
    "bool(\"pwskills\")"
   ]
  },
  {
   "cell_type": "code",
   "execution_count": 83,
   "id": "fc5b133a-d92a-4936-a371-e448dbd8c34b",
   "metadata": {},
   "outputs": [
    {
     "data": {
      "text/plain": [
       "False"
      ]
     },
     "execution_count": 83,
     "metadata": {},
     "output_type": "execute_result"
    }
   ],
   "source": [
    "bool(\"\")"
   ]
  },
  {
   "cell_type": "code",
   "execution_count": 84,
   "id": "c4d093ce-2171-4227-b9b6-d0cf031d8b87",
   "metadata": {},
   "outputs": [
    {
     "data": {
      "text/plain": [
       "True"
      ]
     },
     "execution_count": 84,
     "metadata": {},
     "output_type": "execute_result"
    }
   ],
   "source": [
    "bool(-3)"
   ]
  },
  {
   "cell_type": "code",
   "execution_count": null,
   "id": "96964eaf-f8e5-40f4-ad24-1ebbdb1ada41",
   "metadata": {},
   "outputs": [],
   "source": []
  },
  {
   "cell_type": "code",
   "execution_count": null,
   "id": "ba32bfca-34d5-4644-b327-55ee9efaf081",
   "metadata": {},
   "outputs": [],
   "source": [
    "#Discuss the different types of operators in Python and provide examples of how they are used.\n",
    "\n",
    "#Special operator:\n",
    "\n",
    "#Special keywords/symbols that are use to perform operators on values or variable.\n",
    "\n"
   ]
  },
  {
   "cell_type": "code",
   "execution_count": 2,
   "id": "8f891219-9c06-48a1-8341-dde41f33ef41",
   "metadata": {},
   "outputs": [
    {
     "data": {
      "text/plain": [
       "13"
      ]
     },
     "execution_count": 2,
     "metadata": {},
     "output_type": "execute_result"
    }
   ],
   "source": [
    "a = 7\n",
    "b = 6\n",
    "a+b"
   ]
  },
  {
   "cell_type": "code",
   "execution_count": 3,
   "id": "66cc8c3d-e091-4c64-8eba-fe67106d5566",
   "metadata": {},
   "outputs": [
    {
     "data": {
      "text/plain": [
       "13"
      ]
     },
     "execution_count": 3,
     "metadata": {},
     "output_type": "execute_result"
    }
   ],
   "source": [
    "#Arithmetic operator:\n",
    "\n",
    "add = a+b\n",
    "add"
   ]
  },
  {
   "cell_type": "code",
   "execution_count": 4,
   "id": "f3c88e0d-15c8-4a40-8651-95b3b3f80f38",
   "metadata": {},
   "outputs": [
    {
     "data": {
      "text/plain": [
       "92"
      ]
     },
     "execution_count": 4,
     "metadata": {},
     "output_type": "execute_result"
    }
   ],
   "source": [
    "100-8"
   ]
  },
  {
   "cell_type": "code",
   "execution_count": 5,
   "id": "01e10357-135c-4a2a-b8b8-84b1b33cdf41",
   "metadata": {},
   "outputs": [
    {
     "data": {
      "text/plain": [
       "3"
      ]
     },
     "execution_count": 5,
     "metadata": {},
     "output_type": "execute_result"
    }
   ],
   "source": [
    "-3+6"
   ]
  },
  {
   "cell_type": "code",
   "execution_count": 6,
   "id": "be58cff1-e66b-4815-b37a-6983778b30fa",
   "metadata": {},
   "outputs": [
    {
     "data": {
      "text/plain": [
       "-2"
      ]
     },
     "execution_count": 6,
     "metadata": {},
     "output_type": "execute_result"
    }
   ],
   "source": [
    "-4+2"
   ]
  },
  {
   "cell_type": "code",
   "execution_count": 7,
   "id": "9e7af82c-28d3-465d-8ef2-7fb07344aee1",
   "metadata": {},
   "outputs": [
    {
     "data": {
      "text/plain": [
       "6"
      ]
     },
     "execution_count": 7,
     "metadata": {},
     "output_type": "execute_result"
    }
   ],
   "source": [
    "2*3"
   ]
  },
  {
   "cell_type": "code",
   "execution_count": 8,
   "id": "5f6afd07-9635-40fb-a238-001b464055ae",
   "metadata": {},
   "outputs": [
    {
     "data": {
      "text/plain": [
       "2.0"
      ]
     },
     "execution_count": 8,
     "metadata": {},
     "output_type": "execute_result"
    }
   ],
   "source": [
    "6/3"
   ]
  },
  {
   "cell_type": "code",
   "execution_count": 9,
   "id": "9cf855cb-dc48-4441-964f-beb72cf7ff80",
   "metadata": {},
   "outputs": [
    {
     "data": {
      "text/plain": [
       "2.3333333333333335"
      ]
     },
     "execution_count": 9,
     "metadata": {},
     "output_type": "execute_result"
    }
   ],
   "source": [
    "7/3"
   ]
  },
  {
   "cell_type": "code",
   "execution_count": 10,
   "id": "992e1ae8-d2f7-4811-accf-32a42820d1a5",
   "metadata": {},
   "outputs": [
    {
     "data": {
      "text/plain": [
       "0"
      ]
     },
     "execution_count": 10,
     "metadata": {},
     "output_type": "execute_result"
    }
   ],
   "source": [
    "20%4"
   ]
  },
  {
   "cell_type": "code",
   "execution_count": 11,
   "id": "52a5db54-9eb0-47c3-8f43-06375a572c0a",
   "metadata": {},
   "outputs": [
    {
     "data": {
      "text/plain": [
       "81"
      ]
     },
     "execution_count": 11,
     "metadata": {},
     "output_type": "execute_result"
    }
   ],
   "source": [
    "3**4"
   ]
  },
  {
   "cell_type": "code",
   "execution_count": 12,
   "id": "c848db70-f3ae-4e62-9167-2f112561ee4a",
   "metadata": {},
   "outputs": [
    {
     "data": {
      "text/plain": [
       "515377520732011331036461129765621272702107522001"
      ]
     },
     "execution_count": 12,
     "metadata": {},
     "output_type": "execute_result"
    }
   ],
   "source": [
    "3**100"
   ]
  },
  {
   "cell_type": "code",
   "execution_count": 13,
   "id": "2d2dd831-b70a-435e-bb91-94362092cd34",
   "metadata": {},
   "outputs": [
    {
     "data": {
      "text/plain": [
       "1"
      ]
     },
     "execution_count": 13,
     "metadata": {},
     "output_type": "execute_result"
    }
   ],
   "source": [
    "#floor operator\n",
    "\n",
    "4//3"
   ]
  },
  {
   "cell_type": "code",
   "execution_count": 14,
   "id": "ee98a88d-cebb-402b-9851-409dbf99e60b",
   "metadata": {},
   "outputs": [
    {
     "data": {
      "text/plain": [
       "True"
      ]
     },
     "execution_count": 14,
     "metadata": {},
     "output_type": "execute_result"
    }
   ],
   "source": [
    "5 == 5"
   ]
  },
  {
   "cell_type": "code",
   "execution_count": 15,
   "id": "92100db6-fbfa-4612-aa7a-c8e7ca964651",
   "metadata": {},
   "outputs": [
    {
     "data": {
      "text/plain": [
       "False"
      ]
     },
     "execution_count": 15,
     "metadata": {},
     "output_type": "execute_result"
    }
   ],
   "source": [
    "3 != 3"
   ]
  },
  {
   "cell_type": "code",
   "execution_count": 16,
   "id": "a67d573f-7339-47f6-9f36-372d06bbf0b0",
   "metadata": {},
   "outputs": [
    {
     "data": {
      "text/plain": [
       "True"
      ]
     },
     "execution_count": 16,
     "metadata": {},
     "output_type": "execute_result"
    }
   ],
   "source": [
    "6 != 3"
   ]
  },
  {
   "cell_type": "code",
   "execution_count": 17,
   "id": "fee85fbb-1570-4216-bd6b-d925e7314e60",
   "metadata": {},
   "outputs": [
    {
     "data": {
      "text/plain": [
       "True"
      ]
     },
     "execution_count": 17,
     "metadata": {},
     "output_type": "execute_result"
    }
   ],
   "source": [
    "8 > 3"
   ]
  },
  {
   "cell_type": "code",
   "execution_count": 18,
   "id": "9ef701b1-5554-4f1b-a2c8-1202fd9e8a57",
   "metadata": {},
   "outputs": [
    {
     "data": {
      "text/plain": [
       "True"
      ]
     },
     "execution_count": 18,
     "metadata": {},
     "output_type": "execute_result"
    }
   ],
   "source": [
    "8 >= 3"
   ]
  },
  {
   "cell_type": "code",
   "execution_count": 20,
   "id": "7343bb4b-a5f6-46bc-b1e8-d03d1c4f72be",
   "metadata": {},
   "outputs": [
    {
     "data": {
      "text/plain": [
       "False"
      ]
     },
     "execution_count": 20,
     "metadata": {},
     "output_type": "execute_result"
    }
   ],
   "source": [
    "10 < 5"
   ]
  },
  {
   "cell_type": "code",
   "execution_count": 21,
   "id": "87a20048-401d-41f7-8fc5-bd2529e51723",
   "metadata": {},
   "outputs": [
    {
     "data": {
      "text/plain": [
       "False"
      ]
     },
     "execution_count": 21,
     "metadata": {},
     "output_type": "execute_result"
    }
   ],
   "source": [
    "10 <= 5"
   ]
  },
  {
   "cell_type": "code",
   "execution_count": 22,
   "id": "0ade1db2-ca69-4a7a-9e58-c5dc9b139061",
   "metadata": {},
   "outputs": [
    {
     "data": {
      "text/plain": [
       "True"
      ]
     },
     "execution_count": 22,
     "metadata": {},
     "output_type": "execute_result"
    }
   ],
   "source": [
    "10 <= 10"
   ]
  },
  {
   "cell_type": "code",
   "execution_count": 23,
   "id": "b4a93c20-ce37-4234-a101-4f8940ee77a1",
   "metadata": {},
   "outputs": [
    {
     "data": {
      "text/plain": [
       "True"
      ]
     },
     "execution_count": 23,
     "metadata": {},
     "output_type": "execute_result"
    }
   ],
   "source": [
    "#Logical operator:\n",
    "\n",
    "True and True"
   ]
  },
  {
   "cell_type": "code",
   "execution_count": 24,
   "id": "c144eb47-b83a-42ef-b456-802cca4402ce",
   "metadata": {},
   "outputs": [
    {
     "data": {
      "text/plain": [
       "1"
      ]
     },
     "execution_count": 24,
     "metadata": {},
     "output_type": "execute_result"
    }
   ],
   "source": [
    "True - False"
   ]
  },
  {
   "cell_type": "code",
   "execution_count": 25,
   "id": "892b5b59-8997-4abb-ac4d-b50c72881f78",
   "metadata": {},
   "outputs": [
    {
     "data": {
      "text/plain": [
       "False"
      ]
     },
     "execution_count": 25,
     "metadata": {},
     "output_type": "execute_result"
    }
   ],
   "source": [
    "True and False"
   ]
  },
  {
   "cell_type": "code",
   "execution_count": 26,
   "id": "45341762-60aa-4b5a-a2d2-403c23a4c09e",
   "metadata": {},
   "outputs": [
    {
     "data": {
      "text/plain": [
       "False"
      ]
     },
     "execution_count": 26,
     "metadata": {},
     "output_type": "execute_result"
    }
   ],
   "source": [
    "False and True"
   ]
  },
  {
   "cell_type": "code",
   "execution_count": 27,
   "id": "6e05a1e9-629d-4d25-b614-b3006a8a08b1",
   "metadata": {},
   "outputs": [
    {
     "data": {
      "text/plain": [
       "False"
      ]
     },
     "execution_count": 27,
     "metadata": {},
     "output_type": "execute_result"
    }
   ],
   "source": [
    "False and False"
   ]
  },
  {
   "cell_type": "code",
   "execution_count": 28,
   "id": "dce7fba8-4ac1-4057-93e4-6c4a450e9052",
   "metadata": {},
   "outputs": [
    {
     "data": {
      "text/plain": [
       "True"
      ]
     },
     "execution_count": 28,
     "metadata": {},
     "output_type": "execute_result"
    }
   ],
   "source": [
    "True or True"
   ]
  },
  {
   "cell_type": "code",
   "execution_count": 29,
   "id": "2a37b249-f417-4177-a89f-2a62df6d4301",
   "metadata": {},
   "outputs": [
    {
     "data": {
      "text/plain": [
       "True"
      ]
     },
     "execution_count": 29,
     "metadata": {},
     "output_type": "execute_result"
    }
   ],
   "source": [
    "True or False"
   ]
  },
  {
   "cell_type": "code",
   "execution_count": 30,
   "id": "ab3ff4ff-88f6-4194-a5f7-a2e5cdf66ff6",
   "metadata": {},
   "outputs": [
    {
     "data": {
      "text/plain": [
       "False"
      ]
     },
     "execution_count": 30,
     "metadata": {},
     "output_type": "execute_result"
    }
   ],
   "source": [
    "False or False"
   ]
  },
  {
   "cell_type": "code",
   "execution_count": 31,
   "id": "a0224fae-eaf2-4225-bb10-ca67ec18c327",
   "metadata": {},
   "outputs": [
    {
     "data": {
      "text/plain": [
       "False"
      ]
     },
     "execution_count": 31,
     "metadata": {},
     "output_type": "execute_result"
    }
   ],
   "source": [
    "False or False"
   ]
  },
  {
   "cell_type": "code",
   "execution_count": 32,
   "id": "a76d639c-ffb5-4a09-9e42-9c5ec05ccee8",
   "metadata": {},
   "outputs": [
    {
     "data": {
      "text/plain": [
       "False"
      ]
     },
     "execution_count": 32,
     "metadata": {},
     "output_type": "execute_result"
    }
   ],
   "source": [
    "not True"
   ]
  },
  {
   "cell_type": "code",
   "execution_count": 33,
   "id": "5b46d740-4fcf-4579-9e9e-d8904a03c7ff",
   "metadata": {},
   "outputs": [
    {
     "data": {
      "text/plain": [
       "True"
      ]
     },
     "execution_count": 33,
     "metadata": {},
     "output_type": "execute_result"
    }
   ],
   "source": [
    "not False"
   ]
  },
  {
   "cell_type": "code",
   "execution_count": 34,
   "id": "35082a8f-3b05-4a25-989f-93c8863e458e",
   "metadata": {},
   "outputs": [
    {
     "data": {
      "text/plain": [
       "10"
      ]
     },
     "execution_count": 34,
     "metadata": {},
     "output_type": "execute_result"
    }
   ],
   "source": [
    "a = 10\n",
    "a"
   ]
  },
  {
   "cell_type": "code",
   "execution_count": 35,
   "id": "7e035812-00eb-4889-b51e-cb18d39093e8",
   "metadata": {},
   "outputs": [
    {
     "data": {
      "text/plain": [
       "15"
      ]
     },
     "execution_count": 35,
     "metadata": {},
     "output_type": "execute_result"
    }
   ],
   "source": [
    "a+5"
   ]
  },
  {
   "cell_type": "code",
   "execution_count": 37,
   "id": "a1b16aff-14fe-43c0-a983-91f98b9d87e5",
   "metadata": {},
   "outputs": [],
   "source": [
    "b = 14\n",
    "b+=3"
   ]
  },
  {
   "cell_type": "code",
   "execution_count": 38,
   "id": "4027da87-2196-4514-8088-30ad6ea479b7",
   "metadata": {},
   "outputs": [
    {
     "data": {
      "text/plain": [
       "17"
      ]
     },
     "execution_count": 38,
     "metadata": {},
     "output_type": "execute_result"
    }
   ],
   "source": [
    "b"
   ]
  },
  {
   "cell_type": "code",
   "execution_count": 40,
   "id": "4268c5c9-19e6-43ec-b4bd-32f35ea5ec90",
   "metadata": {},
   "outputs": [],
   "source": [
    "b = 14\n",
    "b-=3"
   ]
  },
  {
   "cell_type": "code",
   "execution_count": 41,
   "id": "2188f4ac-04f5-46d7-a268-b8738d1e9a00",
   "metadata": {},
   "outputs": [
    {
     "data": {
      "text/plain": [
       "11"
      ]
     },
     "execution_count": 41,
     "metadata": {},
     "output_type": "execute_result"
    }
   ],
   "source": [
    "b"
   ]
  },
  {
   "cell_type": "code",
   "execution_count": 43,
   "id": "636e6b9f-6ad8-4bde-9a3d-2d7bedfb0531",
   "metadata": {},
   "outputs": [],
   "source": [
    "b*=3"
   ]
  },
  {
   "cell_type": "code",
   "execution_count": 44,
   "id": "fd18d010-b73d-4e51-967e-f93953bff798",
   "metadata": {},
   "outputs": [
    {
     "data": {
      "text/plain": [
       "33"
      ]
     },
     "execution_count": 44,
     "metadata": {},
     "output_type": "execute_result"
    }
   ],
   "source": [
    "b"
   ]
  },
  {
   "cell_type": "code",
   "execution_count": 45,
   "id": "c805c9b2-f790-46a4-8467-3665da6f6d2a",
   "metadata": {},
   "outputs": [],
   "source": [
    "b/=4"
   ]
  },
  {
   "cell_type": "code",
   "execution_count": 46,
   "id": "006707b6-bc28-42d4-a0de-46eaafca6edd",
   "metadata": {},
   "outputs": [
    {
     "data": {
      "text/plain": [
       "8.25"
      ]
     },
     "execution_count": 46,
     "metadata": {},
     "output_type": "execute_result"
    }
   ],
   "source": [
    "b"
   ]
  },
  {
   "cell_type": "code",
   "execution_count": 48,
   "id": "0bb35b67-a3a0-4e2d-96a6-a35f684b9f69",
   "metadata": {},
   "outputs": [
    {
     "data": {
      "text/plain": [
       "True"
      ]
     },
     "execution_count": 48,
     "metadata": {},
     "output_type": "execute_result"
    }
   ],
   "source": [
    "#Membership operator:\n",
    "\n",
    "a = \"PWskills\"\n",
    "\n",
    "\"P\" in a \n",
    "    \n",
    "    "
   ]
  },
  {
   "cell_type": "code",
   "execution_count": 49,
   "id": "d756ae81-406c-4d61-800f-08159746b6ed",
   "metadata": {},
   "outputs": [
    {
     "data": {
      "text/plain": [
       "True"
      ]
     },
     "execution_count": 49,
     "metadata": {},
     "output_type": "execute_result"
    }
   ],
   "source": [
    "\"p\" not in a"
   ]
  },
  {
   "cell_type": "code",
   "execution_count": 50,
   "id": "a686066f-9e64-460d-93e5-60d1b675fcb0",
   "metadata": {},
   "outputs": [
    {
     "data": {
      "text/plain": [
       "True"
      ]
     },
     "execution_count": 50,
     "metadata": {},
     "output_type": "execute_result"
    }
   ],
   "source": [
    "a = [\"data\",\"analytics\",\"Debasmita\",\"science\"]\n",
    "\"Debasmita\" in a"
   ]
  },
  {
   "cell_type": "code",
   "execution_count": 51,
   "id": "1cad92e0-957f-4519-bc75-e9d267d3a740",
   "metadata": {},
   "outputs": [
    {
     "data": {
      "text/plain": [
       "False"
      ]
     },
     "execution_count": 51,
     "metadata": {},
     "output_type": "execute_result"
    }
   ],
   "source": [
    "\"data science\" in a"
   ]
  },
  {
   "cell_type": "code",
   "execution_count": 52,
   "id": "62f14b33-e26a-4150-8df5-5e5bd6573ed9",
   "metadata": {},
   "outputs": [],
   "source": [
    "a = 5\n",
    "b = 4"
   ]
  },
  {
   "cell_type": "code",
   "execution_count": 53,
   "id": "059874c5-1690-471b-a76e-0ac5cb0d570c",
   "metadata": {},
   "outputs": [
    {
     "data": {
      "text/plain": [
       "False"
      ]
     },
     "execution_count": 53,
     "metadata": {},
     "output_type": "execute_result"
    }
   ],
   "source": [
    "a is b"
   ]
  },
  {
   "cell_type": "code",
   "execution_count": 54,
   "id": "8fdeb214-3518-4ad8-a53b-5a392532df04",
   "metadata": {},
   "outputs": [
    {
     "data": {
      "text/plain": [
       "True"
      ]
     },
     "execution_count": 54,
     "metadata": {},
     "output_type": "execute_result"
    }
   ],
   "source": [
    "a is not b"
   ]
  },
  {
   "cell_type": "code",
   "execution_count": 55,
   "id": "46bc6ffc-3b42-4542-9699-61f872951010",
   "metadata": {},
   "outputs": [],
   "source": [
    "a = 5\n",
    "b = a"
   ]
  },
  {
   "cell_type": "code",
   "execution_count": 56,
   "id": "b483e9a1-097c-48dd-bb10-5a1d66f32858",
   "metadata": {},
   "outputs": [
    {
     "data": {
      "text/plain": [
       "True"
      ]
     },
     "execution_count": 56,
     "metadata": {},
     "output_type": "execute_result"
    }
   ],
   "source": [
    "a is b"
   ]
  },
  {
   "cell_type": "code",
   "execution_count": null,
   "id": "4db9e00b-774d-4f79-83d8-6d82b27a2ce9",
   "metadata": {},
   "outputs": [],
   "source": [
    "#Bitwise operator\n"
   ]
  },
  {
   "cell_type": "code",
   "execution_count": 58,
   "id": "faf694c9-dfb5-4c93-a882-a99cf93c7758",
   "metadata": {},
   "outputs": [
    {
     "data": {
      "text/plain": [
       "8"
      ]
     },
     "execution_count": 58,
     "metadata": {},
     "output_type": "execute_result"
    }
   ],
   "source": [
    "10 & 12"
   ]
  },
  {
   "cell_type": "code",
   "execution_count": 59,
   "id": "63d057f2-9595-49d3-bc0b-1bf91e7778d1",
   "metadata": {},
   "outputs": [
    {
     "data": {
      "text/plain": [
       "'0b1010'"
      ]
     },
     "execution_count": 59,
     "metadata": {},
     "output_type": "execute_result"
    }
   ],
   "source": [
    "bin(10)"
   ]
  },
  {
   "cell_type": "code",
   "execution_count": 60,
   "id": "83495f6a-9266-4d4a-969a-72fc7bebc900",
   "metadata": {},
   "outputs": [
    {
     "data": {
      "text/plain": [
       "'0b1100'"
      ]
     },
     "execution_count": 60,
     "metadata": {},
     "output_type": "execute_result"
    }
   ],
   "source": [
    "bin(12)"
   ]
  },
  {
   "cell_type": "code",
   "execution_count": 61,
   "id": "cbd5b719-28d5-42a1-abc5-e63adf3f3239",
   "metadata": {},
   "outputs": [
    {
     "data": {
      "text/plain": [
       "'0b1000'"
      ]
     },
     "execution_count": 61,
     "metadata": {},
     "output_type": "execute_result"
    }
   ],
   "source": [
    "bin(8)"
   ]
  },
  {
   "cell_type": "code",
   "execution_count": 62,
   "id": "032f3c2a-36d1-441c-ac57-1d63a728376a",
   "metadata": {},
   "outputs": [
    {
     "data": {
      "text/plain": [
       "7"
      ]
     },
     "execution_count": 62,
     "metadata": {},
     "output_type": "execute_result"
    }
   ],
   "source": [
    "5 | 6"
   ]
  },
  {
   "cell_type": "code",
   "execution_count": 63,
   "id": "ddca41cc-cf57-4511-a6b7-92825f5dc834",
   "metadata": {},
   "outputs": [
    {
     "data": {
      "text/plain": [
       "'0b101'"
      ]
     },
     "execution_count": 63,
     "metadata": {},
     "output_type": "execute_result"
    }
   ],
   "source": [
    "bin(5)"
   ]
  },
  {
   "cell_type": "code",
   "execution_count": 64,
   "id": "d3f46e12-7a4a-4b7b-952f-913e33e922fa",
   "metadata": {},
   "outputs": [
    {
     "data": {
      "text/plain": [
       "'0b110'"
      ]
     },
     "execution_count": 64,
     "metadata": {},
     "output_type": "execute_result"
    }
   ],
   "source": [
    "bin(6)"
   ]
  },
  {
   "cell_type": "code",
   "execution_count": 65,
   "id": "480ef4c5-4cd0-4d87-a76d-dec56cc79167",
   "metadata": {},
   "outputs": [
    {
     "data": {
      "text/plain": [
       "'0b111'"
      ]
     },
     "execution_count": 65,
     "metadata": {},
     "output_type": "execute_result"
    }
   ],
   "source": [
    "bin(7)"
   ]
  },
  {
   "cell_type": "code",
   "execution_count": 66,
   "id": "505ca978-a532-45b5-9b9a-5b9327cbd54f",
   "metadata": {},
   "outputs": [
    {
     "data": {
      "text/plain": [
       "-5"
      ]
     },
     "execution_count": 66,
     "metadata": {},
     "output_type": "execute_result"
    }
   ],
   "source": [
    "~4"
   ]
  },
  {
   "cell_type": "code",
   "execution_count": 67,
   "id": "1724d708-7faf-43e7-a95a-288236f2f3ce",
   "metadata": {},
   "outputs": [
    {
     "data": {
      "text/plain": [
       "-9"
      ]
     },
     "execution_count": 67,
     "metadata": {},
     "output_type": "execute_result"
    }
   ],
   "source": [
    "~8"
   ]
  },
  {
   "cell_type": "code",
   "execution_count": 68,
   "id": "8ab79ba4-547c-467d-a58b-1692d95827ec",
   "metadata": {},
   "outputs": [
    {
     "data": {
      "text/plain": [
       "5"
      ]
     },
     "execution_count": 68,
     "metadata": {},
     "output_type": "execute_result"
    }
   ],
   "source": [
    "6 ^ 3"
   ]
  },
  {
   "cell_type": "code",
   "execution_count": 69,
   "id": "fe0e0147-93c7-4cf9-a370-a487c8073ecd",
   "metadata": {},
   "outputs": [
    {
     "data": {
      "text/plain": [
       "'0b110'"
      ]
     },
     "execution_count": 69,
     "metadata": {},
     "output_type": "execute_result"
    }
   ],
   "source": [
    "bin(6)"
   ]
  },
  {
   "cell_type": "code",
   "execution_count": 70,
   "id": "2fb9b2ff-b0b7-470f-81dc-a497d8a495b3",
   "metadata": {},
   "outputs": [
    {
     "data": {
      "text/plain": [
       "'0b11'"
      ]
     },
     "execution_count": 70,
     "metadata": {},
     "output_type": "execute_result"
    }
   ],
   "source": [
    "bin(3)"
   ]
  },
  {
   "cell_type": "code",
   "execution_count": 71,
   "id": "a0403d5d-8b14-496d-968e-e3a9bfae5efc",
   "metadata": {},
   "outputs": [
    {
     "data": {
      "text/plain": [
       "'0b101'"
      ]
     },
     "execution_count": 71,
     "metadata": {},
     "output_type": "execute_result"
    }
   ],
   "source": [
    "bin(5)"
   ]
  },
  {
   "cell_type": "code",
   "execution_count": 72,
   "id": "a879ccc3-2b9e-4c36-9964-42c0345e33af",
   "metadata": {},
   "outputs": [
    {
     "data": {
      "text/plain": [
       "96"
      ]
     },
     "execution_count": 72,
     "metadata": {},
     "output_type": "execute_result"
    }
   ],
   "source": [
    "#Left shift operator\n",
    "\n",
    "12<<3"
   ]
  },
  {
   "cell_type": "code",
   "execution_count": 73,
   "id": "7ad53e9e-1165-46c0-9c43-3513ebef7943",
   "metadata": {},
   "outputs": [
    {
     "data": {
      "text/plain": [
       "'0b1100'"
      ]
     },
     "execution_count": 73,
     "metadata": {},
     "output_type": "execute_result"
    }
   ],
   "source": [
    "bin(12)"
   ]
  },
  {
   "cell_type": "code",
   "execution_count": 74,
   "id": "addf2ee2-5bd7-4f14-aaab-2668cfab699e",
   "metadata": {},
   "outputs": [
    {
     "data": {
      "text/plain": [
       "'0b1100000'"
      ]
     },
     "execution_count": 74,
     "metadata": {},
     "output_type": "execute_result"
    }
   ],
   "source": [
    "bin(96)"
   ]
  },
  {
   "cell_type": "code",
   "execution_count": 75,
   "id": "6fdf214b-4db5-4e6b-ad6c-e3ceefe0a2fb",
   "metadata": {},
   "outputs": [
    {
     "data": {
      "text/plain": [
       "1"
      ]
     },
     "execution_count": 75,
     "metadata": {},
     "output_type": "execute_result"
    }
   ],
   "source": [
    "#Right shift operator\n",
    "\n",
    "34>>5"
   ]
  },
  {
   "cell_type": "code",
   "execution_count": 76,
   "id": "787b342a-e359-4204-8700-750069c49e18",
   "metadata": {},
   "outputs": [
    {
     "data": {
      "text/plain": [
       "'0b100010'"
      ]
     },
     "execution_count": 76,
     "metadata": {},
     "output_type": "execute_result"
    }
   ],
   "source": [
    "bin(34)"
   ]
  },
  {
   "cell_type": "code",
   "execution_count": 77,
   "id": "fa245fdb-4043-482f-af36-529e96948a7d",
   "metadata": {},
   "outputs": [
    {
     "data": {
      "text/plain": [
       "'0b1'"
      ]
     },
     "execution_count": 77,
     "metadata": {},
     "output_type": "execute_result"
    }
   ],
   "source": [
    "bin(1)"
   ]
  },
  {
   "cell_type": "code",
   "execution_count": 78,
   "id": "6b48a55a-5b8d-42ce-a86f-80c689607ed8",
   "metadata": {},
   "outputs": [
    {
     "data": {
      "text/plain": [
       "13"
      ]
     },
     "execution_count": 78,
     "metadata": {},
     "output_type": "execute_result"
    }
   ],
   "source": [
    "b = 6\n",
    "b += 7\n",
    "b"
   ]
  },
  {
   "cell_type": "code",
   "execution_count": 79,
   "id": "b647ecdf-1ce1-4405-83b6-8e727164e06d",
   "metadata": {},
   "outputs": [
    {
     "data": {
      "text/plain": [
       "9"
      ]
     },
     "execution_count": 79,
     "metadata": {},
     "output_type": "execute_result"
    }
   ],
   "source": [
    "(7+6)-4"
   ]
  },
  {
   "cell_type": "code",
   "execution_count": null,
   "id": "636caf0e-d4ea-415b-9637-7d8c746e1dcc",
   "metadata": {},
   "outputs": [],
   "source": []
  },
  {
   "cell_type": "code",
   "execution_count": null,
   "id": "e6ab3693-bbed-4012-8c3b-95db91422f90",
   "metadata": {},
   "outputs": [],
   "source": [
    "# Compare and contrast mutable and immutable objects in Python with examples."
   ]
  },
  {
   "cell_type": "code",
   "execution_count": null,
   "id": "40f4d1a9-3fc0-43a7-9fff-d7603eb3ddf2",
   "metadata": {},
   "outputs": [],
   "source": [
    "#Mutable object:\n",
    "\n",
    "#Container/Objects whose state or value can be changed after they are created are called as Mutable Objects.\n",
    "\n",
    "#list is mutable object."
   ]
  },
  {
   "cell_type": "code",
   "execution_count": 1,
   "id": "126f55da-2635-4d41-8647-e4703c76a4d4",
   "metadata": {},
   "outputs": [
    {
     "data": {
      "text/plain": [
       "[1, 2, 3, (2+3j), 'Debasmita', 'pwskiils']"
      ]
     },
     "execution_count": 1,
     "metadata": {},
     "output_type": "execute_result"
    }
   ],
   "source": [
    "list_cont = [1,2,3,2+3j,\"Debasmita\",\"pwskiils\"]\n",
    "list_cont"
   ]
  },
  {
   "cell_type": "code",
   "execution_count": 3,
   "id": "1caa7804-978e-4035-a06a-7ca9710bf3b6",
   "metadata": {},
   "outputs": [
    {
     "data": {
      "text/plain": [
       "2"
      ]
     },
     "execution_count": 3,
     "metadata": {},
     "output_type": "execute_result"
    }
   ],
   "source": [
    "list_cont[1]"
   ]
  },
  {
   "cell_type": "code",
   "execution_count": 5,
   "id": "74d3e857-dab3-4766-bc2b-e531b3b12ef4",
   "metadata": {},
   "outputs": [
    {
     "data": {
      "text/plain": [
       "'Debasmita'"
      ]
     },
     "execution_count": 5,
     "metadata": {},
     "output_type": "execute_result"
    }
   ],
   "source": [
    "list_cont[4]"
   ]
  },
  {
   "cell_type": "code",
   "execution_count": 6,
   "id": "d4ac8524-259c-49dc-9310-d19d0bfca426",
   "metadata": {},
   "outputs": [
    {
     "data": {
      "text/plain": [
       "type[[1, 2, 3, (2+3j), 'Debasmita', 'pwskiils']]"
      ]
     },
     "execution_count": 6,
     "metadata": {},
     "output_type": "execute_result"
    }
   ],
   "source": [
    "type[list_cont]"
   ]
  },
  {
   "cell_type": "code",
   "execution_count": 7,
   "id": "8eaa274f-2d05-45a8-9217-77fcc32ef5be",
   "metadata": {},
   "outputs": [
    {
     "data": {
      "text/plain": [
       "'Debasmita'"
      ]
     },
     "execution_count": 7,
     "metadata": {},
     "output_type": "execute_result"
    }
   ],
   "source": [
    "list_cont[-2]"
   ]
  },
  {
   "cell_type": "code",
   "execution_count": 8,
   "id": "c8bff913-81ba-4920-aaa9-2a092256ae45",
   "metadata": {},
   "outputs": [],
   "source": [
    "list_cont[5] = \"datascience\""
   ]
  },
  {
   "cell_type": "code",
   "execution_count": 9,
   "id": "fc019bac-70e5-4928-ac27-f2f1268c66ee",
   "metadata": {},
   "outputs": [
    {
     "data": {
      "text/plain": [
       "[1, 2, 3, (2+3j), 'Debasmita', 'datascience']"
      ]
     },
     "execution_count": 9,
     "metadata": {},
     "output_type": "execute_result"
    }
   ],
   "source": [
    "list_cont"
   ]
  },
  {
   "cell_type": "code",
   "execution_count": null,
   "id": "4411cb67-9a65-405b-b9a4-fdef469a928b",
   "metadata": {},
   "outputs": [],
   "source": [
    "#Immutable object:\n",
    "\n",
    "#Container/Objects whose state or value can not be changed after they are created are called as immutable objects.\n",
    "\n",
    "#String is a type of immutable object."
   ]
  },
  {
   "cell_type": "code",
   "execution_count": 10,
   "id": "a5b3aab2-aa9b-4c59-b1ba-ffe3faa95537",
   "metadata": {},
   "outputs": [
    {
     "data": {
      "text/plain": [
       "'Debasmita'"
      ]
     },
     "execution_count": 10,
     "metadata": {},
     "output_type": "execute_result"
    }
   ],
   "source": [
    "b = \"Debasmita\"\n",
    "b"
   ]
  },
  {
   "cell_type": "code",
   "execution_count": 11,
   "id": "cdc89a0a-9c35-4233-b150-cc3453d24693",
   "metadata": {},
   "outputs": [
    {
     "data": {
      "text/plain": [
       "'b'"
      ]
     },
     "execution_count": 11,
     "metadata": {},
     "output_type": "execute_result"
    }
   ],
   "source": [
    "b[2]"
   ]
  },
  {
   "cell_type": "code",
   "execution_count": 12,
   "id": "594fec16-57fd-4884-8371-81807c925c78",
   "metadata": {},
   "outputs": [
    {
     "data": {
      "text/plain": [
       "'e'"
      ]
     },
     "execution_count": 12,
     "metadata": {},
     "output_type": "execute_result"
    }
   ],
   "source": [
    "b[1]"
   ]
  },
  {
   "cell_type": "code",
   "execution_count": 13,
   "id": "6c6ca0a9-3c72-46cb-a57f-3ddbf3e72268",
   "metadata": {},
   "outputs": [
    {
     "ename": "TypeError",
     "evalue": "'str' object does not support item assignment",
     "output_type": "error",
     "traceback": [
      "\u001b[0;31m---------------------------------------------------------------------------\u001b[0m",
      "\u001b[0;31mTypeError\u001b[0m                                 Traceback (most recent call last)",
      "Cell \u001b[0;32mIn[13], line 1\u001b[0m\n\u001b[0;32m----> 1\u001b[0m \u001b[43mb\u001b[49m\u001b[43m[\u001b[49m\u001b[38;5;241;43m1\u001b[39;49m\u001b[43m]\u001b[49m \u001b[38;5;241m=\u001b[39m \u001b[38;5;124m\"\u001b[39m\u001b[38;5;124me\u001b[39m\u001b[38;5;124m\"\u001b[39m\n",
      "\u001b[0;31mTypeError\u001b[0m: 'str' object does not support item assignment"
     ]
    }
   ],
   "source": [
    "b[1] = \"e\""
   ]
  },
  {
   "cell_type": "code",
   "execution_count": 14,
   "id": "68b0a2e9-23b6-446a-9556-446981c50e53",
   "metadata": {},
   "outputs": [
    {
     "ename": "TypeError",
     "evalue": "'str' object does not support item assignment",
     "output_type": "error",
     "traceback": [
      "\u001b[0;31m---------------------------------------------------------------------------\u001b[0m",
      "\u001b[0;31mTypeError\u001b[0m                                 Traceback (most recent call last)",
      "Cell \u001b[0;32mIn[14], line 1\u001b[0m\n\u001b[0;32m----> 1\u001b[0m \u001b[43mb\u001b[49m\u001b[43m[\u001b[49m\u001b[38;5;241;43m3\u001b[39;49m\u001b[43m]\u001b[49m \u001b[38;5;241m=\u001b[39m \u001b[38;5;124m\"\u001b[39m\u001b[38;5;124mRam\u001b[39m\u001b[38;5;124m\"\u001b[39m\n",
      "\u001b[0;31mTypeError\u001b[0m: 'str' object does not support item assignment"
     ]
    }
   ],
   "source": [
    "b[3] = \"Ram\""
   ]
  },
  {
   "cell_type": "code",
   "execution_count": null,
   "id": "4668fde9-f24d-40e4-a246-71d7801812ca",
   "metadata": {},
   "outputs": [],
   "source": []
  },
  {
   "cell_type": "code",
   "execution_count": null,
   "id": "f99d5367-6e7f-4112-aea3-2a071f4ac783",
   "metadata": {},
   "outputs": [],
   "source": [
    "#Describe the role of predefined keywords in Python and provide examples of how they are used in a\n",
    "program:\n",
    "    \n",
    "\n",
    "    \n",
    "\n",
    "\n"
   ]
  },
  {
   "cell_type": "code",
   "execution_count": 1,
   "id": "0179bf6b-b951-4233-b726-6169fea25077",
   "metadata": {},
   "outputs": [
    {
     "name": "stdout",
     "output_type": "stream",
     "text": [
      "\n",
      "Here is a list of the Python keywords.  Enter any keyword to get more help.\n",
      "\n",
      "False               class               from                or\n",
      "None                continue            global              pass\n",
      "True                def                 if                  raise\n",
      "and                 del                 import              return\n",
      "as                  elif                in                  try\n",
      "assert              else                is                  while\n",
      "async               except              lambda              with\n",
      "await               finally             nonlocal            yield\n",
      "break               for                 not                 \n",
      "\n"
     ]
    }
   ],
   "source": [
    "help(\"keywords\")"
   ]
  },
  {
   "cell_type": "code",
   "execution_count": 8,
   "id": "79631a6d-d3c9-4473-a2b7-d1b1b64e9293",
   "metadata": {},
   "outputs": [
    {
     "name": "stdout",
     "output_type": "stream",
     "text": [
      "Hello world\n"
     ]
    }
   ],
   "source": [
    "print(\"Hello world\")"
   ]
  },
  {
   "cell_type": "code",
   "execution_count": 9,
   "id": "4134cf9b-4dcd-4398-b384-b3ba8651fe8c",
   "metadata": {},
   "outputs": [
    {
     "data": {
      "text/plain": [
       "3"
      ]
     },
     "execution_count": 9,
     "metadata": {},
     "output_type": "execute_result"
    }
   ],
   "source": [
    "a = 3\n",
    "a"
   ]
  },
  {
   "cell_type": "code",
   "execution_count": 10,
   "id": "a310f508-d554-4b63-b10c-479c9a19d416",
   "metadata": {},
   "outputs": [
    {
     "data": {
      "text/plain": [
       "int"
      ]
     },
     "execution_count": 10,
     "metadata": {},
     "output_type": "execute_result"
    }
   ],
   "source": [
    "type(a)"
   ]
  },
  {
   "cell_type": "code",
   "execution_count": 11,
   "id": "325d8c43-d14e-46a3-957e-a750db779474",
   "metadata": {},
   "outputs": [
    {
     "data": {
      "text/plain": [
       "5.6"
      ]
     },
     "execution_count": 11,
     "metadata": {},
     "output_type": "execute_result"
    }
   ],
   "source": [
    "b = 5.6\n",
    "b"
   ]
  },
  {
   "cell_type": "code",
   "execution_count": 12,
   "id": "825b786c-ed1d-439b-80f8-94d61c0e2c45",
   "metadata": {},
   "outputs": [
    {
     "data": {
      "text/plain": [
       "float"
      ]
     },
     "execution_count": 12,
     "metadata": {},
     "output_type": "execute_result"
    }
   ],
   "source": [
    "type(b)"
   ]
  },
  {
   "cell_type": "code",
   "execution_count": 13,
   "id": "a8bff8fc-0906-4087-8403-ac09bfafbaa3",
   "metadata": {},
   "outputs": [],
   "source": [
    "c = \"Debasmita\""
   ]
  },
  {
   "cell_type": "code",
   "execution_count": 14,
   "id": "1fceebae-e478-4ce2-8c49-065b2005426c",
   "metadata": {},
   "outputs": [
    {
     "data": {
      "text/plain": [
       "'Debasmita'"
      ]
     },
     "execution_count": 14,
     "metadata": {},
     "output_type": "execute_result"
    }
   ],
   "source": [
    "c"
   ]
  },
  {
   "cell_type": "code",
   "execution_count": 15,
   "id": "1655e93d-ef44-4058-879e-ad20360a1722",
   "metadata": {},
   "outputs": [
    {
     "data": {
      "text/plain": [
       "str"
      ]
     },
     "execution_count": 15,
     "metadata": {},
     "output_type": "execute_result"
    }
   ],
   "source": [
    "type(c)"
   ]
  },
  {
   "cell_type": "code",
   "execution_count": 16,
   "id": "adbdf2f8-ed6e-4be0-8e9b-b1e7df11c438",
   "metadata": {},
   "outputs": [
    {
     "data": {
      "text/plain": [
       "bool"
      ]
     },
     "execution_count": 16,
     "metadata": {},
     "output_type": "execute_result"
    }
   ],
   "source": [
    "a = True\n",
    "type(a)"
   ]
  },
  {
   "cell_type": "code",
   "execution_count": 17,
   "id": "a20e48cd-8e2d-4651-80fb-0cbb96903cd4",
   "metadata": {},
   "outputs": [
    {
     "data": {
      "text/plain": [
       "bool"
      ]
     },
     "execution_count": 17,
     "metadata": {},
     "output_type": "execute_result"
    }
   ],
   "source": [
    "b = False\n",
    "type(b)"
   ]
  },
  {
   "cell_type": "code",
   "execution_count": 18,
   "id": "99bc0e9a-7858-4ef4-803e-6f4a8a4a34fa",
   "metadata": {},
   "outputs": [
    {
     "data": {
      "text/plain": [
       "1"
      ]
     },
     "execution_count": 18,
     "metadata": {},
     "output_type": "execute_result"
    }
   ],
   "source": [
    "True - False"
   ]
  },
  {
   "cell_type": "code",
   "execution_count": 19,
   "id": "1bcad678-2657-4130-a757-4a4423c30b53",
   "metadata": {},
   "outputs": [
    {
     "data": {
      "text/plain": [
       "1"
      ]
     },
     "execution_count": 19,
     "metadata": {},
     "output_type": "execute_result"
    }
   ],
   "source": [
    "True + False"
   ]
  },
  {
   "cell_type": "code",
   "execution_count": 20,
   "id": "bcaa1523-a7cf-45d2-ba83-ae14912c7958",
   "metadata": {},
   "outputs": [
    {
     "data": {
      "text/plain": [
       "0"
      ]
     },
     "execution_count": 20,
     "metadata": {},
     "output_type": "execute_result"
    }
   ],
   "source": [
    "True * False"
   ]
  },
  {
   "cell_type": "code",
   "execution_count": 21,
   "id": "8a75a22a-8c65-480d-894e-b32ba15ca5ca",
   "metadata": {},
   "outputs": [
    {
     "ename": "ZeroDivisionError",
     "evalue": "division by zero",
     "output_type": "error",
     "traceback": [
      "\u001b[0;31m---------------------------------------------------------------------------\u001b[0m",
      "\u001b[0;31mZeroDivisionError\u001b[0m                         Traceback (most recent call last)",
      "Cell \u001b[0;32mIn[21], line 1\u001b[0m\n\u001b[0;32m----> 1\u001b[0m \u001b[38;5;28;43;01mTrue\u001b[39;49;00m\u001b[38;5;241;43m/\u001b[39;49m\u001b[38;5;28;43;01mFalse\u001b[39;49;00m\n",
      "\u001b[0;31mZeroDivisionError\u001b[0m: division by zero"
     ]
    }
   ],
   "source": [
    "True/False"
   ]
  },
  {
   "cell_type": "code",
   "execution_count": 25,
   "id": "6d9b7b37-6c67-4654-acf5-40136c0f7632",
   "metadata": {},
   "outputs": [],
   "source": [
    "p = None\n",
    "p"
   ]
  },
  {
   "cell_type": "code",
   "execution_count": 26,
   "id": "73624698-162e-46f1-84e1-e4db004582fb",
   "metadata": {},
   "outputs": [
    {
     "data": {
      "text/plain": [
       "NoneType"
      ]
     },
     "execution_count": 26,
     "metadata": {},
     "output_type": "execute_result"
    }
   ],
   "source": [
    "type(p)"
   ]
  },
  {
   "cell_type": "code",
   "execution_count": 27,
   "id": "a4160bac-db0e-4219-85a3-75078a33da32",
   "metadata": {},
   "outputs": [],
   "source": [
    "com = 6+4j"
   ]
  },
  {
   "cell_type": "code",
   "execution_count": 28,
   "id": "9c7dff6d-f8f8-4d02-bf5c-aa54cd9e0cd1",
   "metadata": {},
   "outputs": [
    {
     "data": {
      "text/plain": [
       "complex"
      ]
     },
     "execution_count": 28,
     "metadata": {},
     "output_type": "execute_result"
    }
   ],
   "source": [
    "type(com)"
   ]
  },
  {
   "cell_type": "code",
   "execution_count": 29,
   "id": "6fc1b433-174f-4e13-ac62-bd5eca79e0cf",
   "metadata": {},
   "outputs": [
    {
     "data": {
      "text/plain": [
       "6.0"
      ]
     },
     "execution_count": 29,
     "metadata": {},
     "output_type": "execute_result"
    }
   ],
   "source": [
    "com.real"
   ]
  },
  {
   "cell_type": "code",
   "execution_count": 30,
   "id": "89e78a11-cc48-40d2-ac69-a9c5606113f2",
   "metadata": {},
   "outputs": [
    {
     "data": {
      "text/plain": [
       "4.0"
      ]
     },
     "execution_count": 30,
     "metadata": {},
     "output_type": "execute_result"
    }
   ],
   "source": [
    "com.imag"
   ]
  },
  {
   "cell_type": "code",
   "execution_count": 31,
   "id": "ef11f08f-8292-4576-970d-fce0063f0e43",
   "metadata": {},
   "outputs": [],
   "source": [
    "name = \"Debasmita\""
   ]
  },
  {
   "cell_type": "code",
   "execution_count": 32,
   "id": "311a0e0a-ee49-46d2-afdc-6da696f24f19",
   "metadata": {},
   "outputs": [
    {
     "data": {
      "text/plain": [
       "'Debasmita'"
      ]
     },
     "execution_count": 32,
     "metadata": {},
     "output_type": "execute_result"
    }
   ],
   "source": [
    "name"
   ]
  },
  {
   "cell_type": "code",
   "execution_count": 33,
   "id": "5486b19a-fa49-40e9-b7b9-96715b2c803a",
   "metadata": {},
   "outputs": [
    {
     "ename": "SyntaxError",
     "evalue": "cannot assign to literal here. Maybe you meant '==' instead of '='? (310222110.py, line 1)",
     "output_type": "error",
     "traceback": [
      "\u001b[0;36m  Cell \u001b[0;32mIn[33], line 1\u001b[0;36m\u001b[0m\n\u001b[0;31m    1 = abc\u001b[0m\n\u001b[0m    ^\u001b[0m\n\u001b[0;31mSyntaxError\u001b[0m\u001b[0;31m:\u001b[0m cannot assign to literal here. Maybe you meant '==' instead of '='?\n"
     ]
    }
   ],
   "source": [
    "1 = abc"
   ]
  },
  {
   "cell_type": "code",
   "execution_count": 34,
   "id": "f096e2ea-65cc-45a2-82d8-01a7ea8613c7",
   "metadata": {},
   "outputs": [],
   "source": [
    "_abc = \"pwskills\""
   ]
  },
  {
   "cell_type": "code",
   "execution_count": 35,
   "id": "55f2e0c5-135e-4857-b90a-dbc2e5af01a0",
   "metadata": {},
   "outputs": [
    {
     "data": {
      "text/plain": [
       "'pwskills'"
      ]
     },
     "execution_count": 35,
     "metadata": {},
     "output_type": "execute_result"
    }
   ],
   "source": [
    "_abc"
   ]
  },
  {
   "cell_type": "code",
   "execution_count": 36,
   "id": "6e911a18-41b1-4b92-bd39-c662a1f63bcb",
   "metadata": {},
   "outputs": [
    {
     "name": "stdout",
     "output_type": "stream",
     "text": [
      "Room temp\n"
     ]
    }
   ],
   "source": [
    "temp = 40\n",
    "if temp > 32:\n",
    "    print(\"Room temp\")\n",
    "    "
   ]
  },
  {
   "cell_type": "code",
   "execution_count": 37,
   "id": "d4aa01c3-a6d7-4b04-9a1e-e6e0d1e09c69",
   "metadata": {},
   "outputs": [
    {
     "name": "stdout",
     "output_type": "stream",
     "text": [
      "x is greater than 7\n"
     ]
    }
   ],
   "source": [
    "x = 24\n",
    "if x > 7:\n",
    "    print(\"x is greater than 7\")\n",
    "else:\n",
    "    print(\"The no is less than 7\")"
   ]
  },
  {
   "cell_type": "code",
   "execution_count": 38,
   "id": "7ddd3475-d482-4008-b9db-f7120fa6a473",
   "metadata": {},
   "outputs": [
    {
     "name": "stdout",
     "output_type": "stream",
     "text": [
      "The number is equals to 100\n"
     ]
    }
   ],
   "source": [
    "a = 100\n",
    "if a>100:\n",
    "    print(\"This block will be executed if a is greater than 100\")\n",
    "elif a < 100:\n",
    "    print(\"This block will be executed if a is lesser than 100\")\n",
    "else:\n",
    "    print(\"The number is equals to 100\")"
   ]
  },
  {
   "cell_type": "code",
   "execution_count": 39,
   "id": "c6264ba3-2ec8-429c-9328-7d4ef7109b1e",
   "metadata": {},
   "outputs": [
    {
     "name": "stdout",
     "output_type": "stream",
     "text": [
      "1\n",
      "2\n",
      "3\n",
      "4\n",
      "5\n",
      "6\n"
     ]
    }
   ],
   "source": [
    "n = 7\n",
    "i = 1\n",
    "while i < n: #condition\n",
    "    print(i) \n",
    "    i = i+1\n",
    "    \n",
    "    "
   ]
  },
  {
   "cell_type": "code",
   "execution_count": 40,
   "id": "dd48b6c3-fbc9-4724-b7f5-dcb9ea272a52",
   "metadata": {},
   "outputs": [
    {
     "name": "stdout",
     "output_type": "stream",
     "text": [
      "1\n",
      "2\n"
     ]
    }
   ],
   "source": [
    "n = 7\n",
    "i = 1\n",
    "while i < n:\n",
    "    print(i) \n",
    "    i = i+1\n",
    "    if i == 3:\n",
    "        break\n",
    "else:\n",
    "    print(\"This will be executed when the while is run successfuly without any break\")"
   ]
  },
  {
   "cell_type": "code",
   "execution_count": 41,
   "id": "d3146d1c-3b5f-4b60-8652-5fcb12de4914",
   "metadata": {},
   "outputs": [
    {
     "name": "stdout",
     "output_type": "stream",
     "text": [
      "2\n",
      "4\n",
      "5\n",
      "6\n",
      "7\n",
      "This will be executed when the while is run successfuly without any break\n"
     ]
    }
   ],
   "source": [
    "n = 7\n",
    "i = 1\n",
    "while i < n:\n",
    "    i = i+1\n",
    "    if i == 3:\n",
    "        continue \n",
    "    print(i)\n",
    "else:    \n",
    "    print(\"This will be executed when the while is run successfuly without any break\")"
   ]
  },
  {
   "cell_type": "code",
   "execution_count": 42,
   "id": "12f19cad-1d15-4f62-a9a0-4e2be77b6bd9",
   "metadata": {},
   "outputs": [
    {
     "name": "stdout",
     "output_type": "stream",
     "text": [
      "1\n",
      "2\n",
      "Debasmita\n",
      "pwskills\n"
     ]
    }
   ],
   "source": [
    "l = [1,2,\"Debasmita\", \"pwskills\"]\n",
    "for i in l:\n",
    "    print(i)"
   ]
  },
  {
   "cell_type": "code",
   "execution_count": 43,
   "id": "c5caf2f5-48b4-4454-9e67-859bed86e659",
   "metadata": {},
   "outputs": [
    {
     "data": {
      "text/plain": [
       "1"
      ]
     },
     "execution_count": 43,
     "metadata": {},
     "output_type": "execute_result"
    }
   ],
   "source": [
    "13&3"
   ]
  },
  {
   "cell_type": "code",
   "execution_count": 45,
   "id": "c88aa3f8-761b-446a-9695-ca706aeb8194",
   "metadata": {},
   "outputs": [
    {
     "data": {
      "text/plain": [
       "'0b1101'"
      ]
     },
     "execution_count": 45,
     "metadata": {},
     "output_type": "execute_result"
    }
   ],
   "source": [
    "bin(13)"
   ]
  },
  {
   "cell_type": "code",
   "execution_count": 46,
   "id": "5c0ff8e4-5f52-4722-ad30-82b3fe3a84dd",
   "metadata": {},
   "outputs": [
    {
     "data": {
      "text/plain": [
       "'0b11'"
      ]
     },
     "execution_count": 46,
     "metadata": {},
     "output_type": "execute_result"
    }
   ],
   "source": [
    "bin(3)"
   ]
  },
  {
   "cell_type": "code",
   "execution_count": 47,
   "id": "b3b18f88-c89f-4be2-bbcc-b6940efdf58c",
   "metadata": {},
   "outputs": [
    {
     "data": {
      "text/plain": [
       "'0b1'"
      ]
     },
     "execution_count": 47,
     "metadata": {},
     "output_type": "execute_result"
    }
   ],
   "source": [
    "bin(1)"
   ]
  },
  {
   "cell_type": "code",
   "execution_count": 48,
   "id": "6e963982-17c7-4377-a1ea-3c5658aa9574",
   "metadata": {},
   "outputs": [
    {
     "data": {
      "text/plain": [
       "7"
      ]
     },
     "execution_count": 48,
     "metadata": {},
     "output_type": "execute_result"
    }
   ],
   "source": [
    "3 | 5"
   ]
  },
  {
   "cell_type": "code",
   "execution_count": 49,
   "id": "301087a1-b364-4dac-b208-00d5b698d2f7",
   "metadata": {},
   "outputs": [
    {
     "data": {
      "text/plain": [
       "'0b11'"
      ]
     },
     "execution_count": 49,
     "metadata": {},
     "output_type": "execute_result"
    }
   ],
   "source": [
    "bin(3)"
   ]
  },
  {
   "cell_type": "code",
   "execution_count": 50,
   "id": "218723bf-0483-471a-bdae-24d4acadd624",
   "metadata": {},
   "outputs": [
    {
     "data": {
      "text/plain": [
       "'0b101'"
      ]
     },
     "execution_count": 50,
     "metadata": {},
     "output_type": "execute_result"
    }
   ],
   "source": [
    "bin(5)"
   ]
  },
  {
   "cell_type": "code",
   "execution_count": 51,
   "id": "4ed7c7a7-10aa-4d3e-9521-2e312eb268ff",
   "metadata": {},
   "outputs": [
    {
     "data": {
      "text/plain": [
       "'0b111'"
      ]
     },
     "execution_count": 51,
     "metadata": {},
     "output_type": "execute_result"
    }
   ],
   "source": [
    "bin(7)"
   ]
  },
  {
   "cell_type": "code",
   "execution_count": null,
   "id": "c09ddbd4-2aeb-47e4-abd4-fd618827b2c5",
   "metadata": {},
   "outputs": [],
   "source": []
  }
 ],
 "metadata": {
  "kernelspec": {
   "display_name": "Python 3 (ipykernel)",
   "language": "python",
   "name": "python3"
  },
  "language_info": {
   "codemirror_mode": {
    "name": "ipython",
    "version": 3
   },
   "file_extension": ".py",
   "mimetype": "text/x-python",
   "name": "python",
   "nbconvert_exporter": "python",
   "pygments_lexer": "ipython3",
   "version": "3.10.8"
  }
 },
 "nbformat": 4,
 "nbformat_minor": 5
}
